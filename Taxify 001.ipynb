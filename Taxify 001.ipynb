{
 "cells": [
  {
   "cell_type": "markdown",
   "metadata": {},
   "source": [
    "City Supply Data Analysis\t\t\t\t\t\t\t\t\t\n",
    "\t\t\t\t\t\t\t\t\t\n",
    "Important part of our business is a supply/demand balance. We can’t control demand but we can shift some supply to necessary hours to cover more demand during peaks.\t\t\t\t\t\t\t\t\t\n",
    "As part of the task you will have sample supply and demand data over a week in a single city a few days after launch.\t\t\t\t\t\t\t\t\t\n",
    "\t\t\t\t\t\t\t\t\t\n",
    "We need to understand\t\t\t\t\t\t\t\t\t\n",
    "1) What is the supply to demand dynamic and whether they match\t\t\t\t\t\t\t\t\t\n",
    "2) Where are the hours of oversupply? How can we shift some of them to undersupply hours?\t\t\t\t\t\t\t\t\t\n",
    "\t\t\t\t\t\t\t\t\t\n",
    "Needed output:\t\t\t\t\t\t\t\t\t\n",
    "1) Calculate the total number of unique searches with 100% coverage.\n",
    "\n",
    "2) Illustate in a chart a match/mismatch of demand and supply throughout the week.\t\t\t\t\t\t\t\t\t\n",
    "3) In a form of a 24x7 grid, visualize a coverage heatmap. This one we can send to drivers to show when is the best time to go online (low coverage usually suggests higher demand).                                                                                                                \t\t\t\t\t\t\t\t\t\n",
    "4) If it was possible to introduce higher driver pricing during specific hours to increase supply and decrease demand, what weekly schedule of price multipliers would you choose? Visualise in a heatmap.\t\t\t\t\t\t\t\t\t\n",
    "5) Find the 5-hour period with highest demand and calculate how much we can spend on driver incentives, given that we want to re-invest all the revenue received in this timeframe. Assume that Finished Rides have the average value of €10 (commission of Taxify is 20%).\t\t\t\t\t\t\t\t\t\n",
    "6) Estimate number of weekly trips we would have done (finished) with maximum Coverage Ratio.\t\t\t\t\t\t\t\t\t\n",
    "7) Find 5 (out of 168) most utilized hours of the week, and calculate the sum of trips finished in these 5 hours. Explain how you understand the concept of driver utilization rate.\t\t\t\t\t\t\t\t\t\n"
   ]
  },
  {
   "cell_type": "markdown",
   "metadata": {},
   "source": [
    "### supply to demand dynamic "
   ]
  },
  {
   "cell_type": "markdown",
   "metadata": {},
   "source": [
    "what represents demand in the data set? users -->searches \n",
    "\n",
    "what represents supply in the dataset ? Drivers -->\n"
   ]
  },
  {
   "cell_type": "code",
   "execution_count": 1,
   "metadata": {},
   "outputs": [],
   "source": [
    "# Load in our libraries\n",
    "import pandas as pd\n",
    "import numpy as np\n",
    "import xlrd\n",
    "import sklearn\n",
    "import seaborn as sns\n",
    "import matplotlib.pyplot as plt\n",
    "%matplotlib inline\n",
    "\n",
    "#import warnings\n",
    "#warnings.filterwarnings('ignore')\n"
   ]
  },
  {
   "cell_type": "code",
   "execution_count": 2,
   "metadata": {},
   "outputs": [
    {
     "name": "stdout",
     "output_type": "stream",
     "text": [
      "Activity_raw.xlsx Taxify 001.ipynb  searches_Raw.xlsx\r\n"
     ]
    }
   ],
   "source": [
    "!ls"
   ]
  },
  {
   "cell_type": "code",
   "execution_count": 3,
   "metadata": {},
   "outputs": [],
   "source": [
    "#load in our dataset\n",
    "df1 = pd.read_excel(\"searches_Raw.xlsx\")\n",
    "df2= pd.read_excel(\"Activity_raw.xlsx\")"
   ]
  },
  {
   "cell_type": "code",
   "execution_count": 4,
   "metadata": {},
   "outputs": [
    {
     "data": {
      "text/html": [
       "<div>\n",
       "<style scoped>\n",
       "    .dataframe tbody tr th:only-of-type {\n",
       "        vertical-align: middle;\n",
       "    }\n",
       "\n",
       "    .dataframe tbody tr th {\n",
       "        vertical-align: top;\n",
       "    }\n",
       "\n",
       "    .dataframe thead th {\n",
       "        text-align: right;\n",
       "    }\n",
       "</style>\n",
       "<table border=\"1\" class=\"dataframe\">\n",
       "  <thead>\n",
       "    <tr style=\"text-align: right;\">\n",
       "      <th></th>\n",
       "      <th>Date</th>\n",
       "      <th>Taxify: People saw 0 cars (unique)</th>\n",
       "      <th>Taxify: People saw +1 cars (unique)</th>\n",
       "      <th>Taxify: Coverage Ratio (unique)</th>\n",
       "    </tr>\n",
       "  </thead>\n",
       "  <tbody>\n",
       "    <tr>\n",
       "      <th>0</th>\n",
       "      <td>2016-11-13 23</td>\n",
       "      <td>2</td>\n",
       "      <td>34</td>\n",
       "      <td>94</td>\n",
       "    </tr>\n",
       "    <tr>\n",
       "      <th>1</th>\n",
       "      <td>2016-11-13 22</td>\n",
       "      <td>7</td>\n",
       "      <td>47</td>\n",
       "      <td>87</td>\n",
       "    </tr>\n",
       "    <tr>\n",
       "      <th>2</th>\n",
       "      <td>2016-11-13 21</td>\n",
       "      <td>14</td>\n",
       "      <td>44</td>\n",
       "      <td>76</td>\n",
       "    </tr>\n",
       "    <tr>\n",
       "      <th>3</th>\n",
       "      <td>2016-11-13 20</td>\n",
       "      <td>5</td>\n",
       "      <td>40</td>\n",
       "      <td>89</td>\n",
       "    </tr>\n",
       "    <tr>\n",
       "      <th>4</th>\n",
       "      <td>2016-11-13 19</td>\n",
       "      <td>7</td>\n",
       "      <td>37</td>\n",
       "      <td>84</td>\n",
       "    </tr>\n",
       "  </tbody>\n",
       "</table>\n",
       "</div>"
      ],
      "text/plain": [
       "            Date  Taxify: People saw 0 cars (unique)  \\\n",
       "0  2016-11-13 23                                   2   \n",
       "1  2016-11-13 22                                   7   \n",
       "2  2016-11-13 21                                  14   \n",
       "3  2016-11-13 20                                   5   \n",
       "4  2016-11-13 19                                   7   \n",
       "\n",
       "   Taxify: People saw +1 cars (unique)  Taxify: Coverage Ratio (unique)  \n",
       "0                                   34                               94  \n",
       "1                                   47                               87  \n",
       "2                                   44                               76  \n",
       "3                                   40                               89  \n",
       "4                                   37                               84  "
      ]
     },
     "execution_count": 4,
     "metadata": {},
     "output_type": "execute_result"
    }
   ],
   "source": [
    "df1.head()"
   ]
  },
  {
   "cell_type": "code",
   "execution_count": 5,
   "metadata": {},
   "outputs": [
    {
     "data": {
      "text/html": [
       "<div>\n",
       "<style scoped>\n",
       "    .dataframe tbody tr th:only-of-type {\n",
       "        vertical-align: middle;\n",
       "    }\n",
       "\n",
       "    .dataframe tbody tr th {\n",
       "        vertical-align: top;\n",
       "    }\n",
       "\n",
       "    .dataframe thead th {\n",
       "        text-align: right;\n",
       "    }\n",
       "</style>\n",
       "<table border=\"1\" class=\"dataframe\">\n",
       "  <thead>\n",
       "    <tr style=\"text-align: right;\">\n",
       "      <th></th>\n",
       "      <th>Date</th>\n",
       "      <th>Active drivers</th>\n",
       "      <th>Online (h)</th>\n",
       "      <th>Has booking (h)</th>\n",
       "      <th>Waiting for booking (h)</th>\n",
       "      <th>Busy (h)</th>\n",
       "      <th>Hours per active driver</th>\n",
       "      <th>Rides per online hour</th>\n",
       "      <th>Finished Rides</th>\n",
       "    </tr>\n",
       "  </thead>\n",
       "  <tbody>\n",
       "    <tr>\n",
       "      <th>0</th>\n",
       "      <td>2016-11-13 23</td>\n",
       "      <td>45</td>\n",
       "      <td>22</td>\n",
       "      <td>3</td>\n",
       "      <td>19</td>\n",
       "      <td>13</td>\n",
       "      <td>0.5</td>\n",
       "      <td>0.45</td>\n",
       "      <td>10</td>\n",
       "    </tr>\n",
       "    <tr>\n",
       "      <th>1</th>\n",
       "      <td>2016-11-13 22</td>\n",
       "      <td>58</td>\n",
       "      <td>23</td>\n",
       "      <td>5</td>\n",
       "      <td>18</td>\n",
       "      <td>18</td>\n",
       "      <td>0.4</td>\n",
       "      <td>0.52</td>\n",
       "      <td>12</td>\n",
       "    </tr>\n",
       "    <tr>\n",
       "      <th>2</th>\n",
       "      <td>2016-11-13 21</td>\n",
       "      <td>72</td>\n",
       "      <td>24</td>\n",
       "      <td>6</td>\n",
       "      <td>19</td>\n",
       "      <td>20</td>\n",
       "      <td>0.3</td>\n",
       "      <td>0.71</td>\n",
       "      <td>17</td>\n",
       "    </tr>\n",
       "    <tr>\n",
       "      <th>3</th>\n",
       "      <td>2016-11-13 20</td>\n",
       "      <td>74</td>\n",
       "      <td>30</td>\n",
       "      <td>5</td>\n",
       "      <td>25</td>\n",
       "      <td>17</td>\n",
       "      <td>0.4</td>\n",
       "      <td>0.47</td>\n",
       "      <td>14</td>\n",
       "    </tr>\n",
       "    <tr>\n",
       "      <th>4</th>\n",
       "      <td>2016-11-13 19</td>\n",
       "      <td>58</td>\n",
       "      <td>26</td>\n",
       "      <td>4</td>\n",
       "      <td>22</td>\n",
       "      <td>17</td>\n",
       "      <td>0.4</td>\n",
       "      <td>0.46</td>\n",
       "      <td>12</td>\n",
       "    </tr>\n",
       "  </tbody>\n",
       "</table>\n",
       "</div>"
      ],
      "text/plain": [
       "            Date  Active drivers  Online (h)  Has booking (h)  \\\n",
       "0  2016-11-13 23              45          22                3   \n",
       "1  2016-11-13 22              58          23                5   \n",
       "2  2016-11-13 21              72          24                6   \n",
       "3  2016-11-13 20              74          30                5   \n",
       "4  2016-11-13 19              58          26                4   \n",
       "\n",
       "   Waiting for booking (h)  Busy (h)  Hours per active driver  \\\n",
       "0                       19        13                      0.5   \n",
       "1                       18        18                      0.4   \n",
       "2                       19        20                      0.3   \n",
       "3                       25        17                      0.4   \n",
       "4                       22        17                      0.4   \n",
       "\n",
       "   Rides per online hour  Finished Rides  \n",
       "0                   0.45              10  \n",
       "1                   0.52              12  \n",
       "2                   0.71              17  \n",
       "3                   0.47              14  \n",
       "4                   0.46              12  "
      ]
     },
     "execution_count": 5,
     "metadata": {},
     "output_type": "execute_result"
    }
   ],
   "source": [
    "df2.head()"
   ]
  },
  {
   "cell_type": "code",
   "execution_count": 6,
   "metadata": {},
   "outputs": [
    {
     "data": {
      "text/plain": [
       "Date                                   object\n",
       "Taxify: People saw 0 cars (unique)      int64\n",
       "Taxify: People saw +1 cars (unique)     int64\n",
       "Taxify: Coverage Ratio (unique)         int64\n",
       "dtype: object"
      ]
     },
     "execution_count": 6,
     "metadata": {},
     "output_type": "execute_result"
    }
   ],
   "source": [
    "df1.dtypes"
   ]
  },
  {
   "cell_type": "code",
   "execution_count": 7,
   "metadata": {},
   "outputs": [
    {
     "data": {
      "text/plain": [
       "Date                        object\n",
       "Active drivers               int64\n",
       "Online (h)                   int64\n",
       "Has booking (h)              int64\n",
       "Waiting for booking (h)      int64\n",
       "Busy (h)                     int64\n",
       "Hours per active driver    float64\n",
       "Rides per online hour      float64\n",
       "Finished Rides               int64\n",
       "dtype: object"
      ]
     },
     "execution_count": 7,
     "metadata": {},
     "output_type": "execute_result"
    }
   ],
   "source": [
    "df2.dtypes"
   ]
  },
  {
   "cell_type": "code",
   "execution_count": 8,
   "metadata": {},
   "outputs": [],
   "source": [
    "#convert df1 date to datetime\n",
    "df1['Date'] = pd.to_datetime(df1['Date'])"
   ]
  },
  {
   "cell_type": "code",
   "execution_count": 9,
   "metadata": {},
   "outputs": [
    {
     "data": {
      "text/html": [
       "<div>\n",
       "<style scoped>\n",
       "    .dataframe tbody tr th:only-of-type {\n",
       "        vertical-align: middle;\n",
       "    }\n",
       "\n",
       "    .dataframe tbody tr th {\n",
       "        vertical-align: top;\n",
       "    }\n",
       "\n",
       "    .dataframe thead th {\n",
       "        text-align: right;\n",
       "    }\n",
       "</style>\n",
       "<table border=\"1\" class=\"dataframe\">\n",
       "  <thead>\n",
       "    <tr style=\"text-align: right;\">\n",
       "      <th></th>\n",
       "      <th>Date</th>\n",
       "      <th>Taxify: People saw 0 cars (unique)</th>\n",
       "      <th>Taxify: People saw +1 cars (unique)</th>\n",
       "      <th>Taxify: Coverage Ratio (unique)</th>\n",
       "    </tr>\n",
       "  </thead>\n",
       "  <tbody>\n",
       "    <tr>\n",
       "      <th>0</th>\n",
       "      <td>2016-11-13 23:00:00</td>\n",
       "      <td>2</td>\n",
       "      <td>34</td>\n",
       "      <td>94</td>\n",
       "    </tr>\n",
       "    <tr>\n",
       "      <th>1</th>\n",
       "      <td>2016-11-13 22:00:00</td>\n",
       "      <td>7</td>\n",
       "      <td>47</td>\n",
       "      <td>87</td>\n",
       "    </tr>\n",
       "    <tr>\n",
       "      <th>2</th>\n",
       "      <td>2016-11-13 21:00:00</td>\n",
       "      <td>14</td>\n",
       "      <td>44</td>\n",
       "      <td>76</td>\n",
       "    </tr>\n",
       "    <tr>\n",
       "      <th>3</th>\n",
       "      <td>2016-11-13 20:00:00</td>\n",
       "      <td>5</td>\n",
       "      <td>40</td>\n",
       "      <td>89</td>\n",
       "    </tr>\n",
       "    <tr>\n",
       "      <th>4</th>\n",
       "      <td>2016-11-13 19:00:00</td>\n",
       "      <td>7</td>\n",
       "      <td>37</td>\n",
       "      <td>84</td>\n",
       "    </tr>\n",
       "  </tbody>\n",
       "</table>\n",
       "</div>"
      ],
      "text/plain": [
       "                 Date  Taxify: People saw 0 cars (unique)  \\\n",
       "0 2016-11-13 23:00:00                                   2   \n",
       "1 2016-11-13 22:00:00                                   7   \n",
       "2 2016-11-13 21:00:00                                  14   \n",
       "3 2016-11-13 20:00:00                                   5   \n",
       "4 2016-11-13 19:00:00                                   7   \n",
       "\n",
       "   Taxify: People saw +1 cars (unique)  Taxify: Coverage Ratio (unique)  \n",
       "0                                   34                               94  \n",
       "1                                   47                               87  \n",
       "2                                   44                               76  \n",
       "3                                   40                               89  \n",
       "4                                   37                               84  "
      ]
     },
     "execution_count": 9,
     "metadata": {},
     "output_type": "execute_result"
    }
   ],
   "source": [
    "df1.head()"
   ]
  },
  {
   "cell_type": "code",
   "execution_count": 10,
   "metadata": {},
   "outputs": [],
   "source": [
    "#convert df2\n",
    "df2['Date'] = pd.to_datetime(df2['Date'])"
   ]
  },
  {
   "cell_type": "code",
   "execution_count": 11,
   "metadata": {},
   "outputs": [
    {
     "data": {
      "text/html": [
       "<div>\n",
       "<style scoped>\n",
       "    .dataframe tbody tr th:only-of-type {\n",
       "        vertical-align: middle;\n",
       "    }\n",
       "\n",
       "    .dataframe tbody tr th {\n",
       "        vertical-align: top;\n",
       "    }\n",
       "\n",
       "    .dataframe thead th {\n",
       "        text-align: right;\n",
       "    }\n",
       "</style>\n",
       "<table border=\"1\" class=\"dataframe\">\n",
       "  <thead>\n",
       "    <tr style=\"text-align: right;\">\n",
       "      <th></th>\n",
       "      <th>Date</th>\n",
       "      <th>Active drivers</th>\n",
       "      <th>Online (h)</th>\n",
       "      <th>Has booking (h)</th>\n",
       "      <th>Waiting for booking (h)</th>\n",
       "      <th>Busy (h)</th>\n",
       "      <th>Hours per active driver</th>\n",
       "      <th>Rides per online hour</th>\n",
       "      <th>Finished Rides</th>\n",
       "    </tr>\n",
       "  </thead>\n",
       "  <tbody>\n",
       "    <tr>\n",
       "      <th>0</th>\n",
       "      <td>2016-11-13 23:00:00</td>\n",
       "      <td>45</td>\n",
       "      <td>22</td>\n",
       "      <td>3</td>\n",
       "      <td>19</td>\n",
       "      <td>13</td>\n",
       "      <td>0.5</td>\n",
       "      <td>0.45</td>\n",
       "      <td>10</td>\n",
       "    </tr>\n",
       "    <tr>\n",
       "      <th>1</th>\n",
       "      <td>2016-11-13 22:00:00</td>\n",
       "      <td>58</td>\n",
       "      <td>23</td>\n",
       "      <td>5</td>\n",
       "      <td>18</td>\n",
       "      <td>18</td>\n",
       "      <td>0.4</td>\n",
       "      <td>0.52</td>\n",
       "      <td>12</td>\n",
       "    </tr>\n",
       "    <tr>\n",
       "      <th>2</th>\n",
       "      <td>2016-11-13 21:00:00</td>\n",
       "      <td>72</td>\n",
       "      <td>24</td>\n",
       "      <td>6</td>\n",
       "      <td>19</td>\n",
       "      <td>20</td>\n",
       "      <td>0.3</td>\n",
       "      <td>0.71</td>\n",
       "      <td>17</td>\n",
       "    </tr>\n",
       "    <tr>\n",
       "      <th>3</th>\n",
       "      <td>2016-11-13 20:00:00</td>\n",
       "      <td>74</td>\n",
       "      <td>30</td>\n",
       "      <td>5</td>\n",
       "      <td>25</td>\n",
       "      <td>17</td>\n",
       "      <td>0.4</td>\n",
       "      <td>0.47</td>\n",
       "      <td>14</td>\n",
       "    </tr>\n",
       "    <tr>\n",
       "      <th>4</th>\n",
       "      <td>2016-11-13 19:00:00</td>\n",
       "      <td>58</td>\n",
       "      <td>26</td>\n",
       "      <td>4</td>\n",
       "      <td>22</td>\n",
       "      <td>17</td>\n",
       "      <td>0.4</td>\n",
       "      <td>0.46</td>\n",
       "      <td>12</td>\n",
       "    </tr>\n",
       "  </tbody>\n",
       "</table>\n",
       "</div>"
      ],
      "text/plain": [
       "                 Date  Active drivers  Online (h)  Has booking (h)  \\\n",
       "0 2016-11-13 23:00:00              45          22                3   \n",
       "1 2016-11-13 22:00:00              58          23                5   \n",
       "2 2016-11-13 21:00:00              72          24                6   \n",
       "3 2016-11-13 20:00:00              74          30                5   \n",
       "4 2016-11-13 19:00:00              58          26                4   \n",
       "\n",
       "   Waiting for booking (h)  Busy (h)  Hours per active driver  \\\n",
       "0                       19        13                      0.5   \n",
       "1                       18        18                      0.4   \n",
       "2                       19        20                      0.3   \n",
       "3                       25        17                      0.4   \n",
       "4                       22        17                      0.4   \n",
       "\n",
       "   Rides per online hour  Finished Rides  \n",
       "0                   0.45              10  \n",
       "1                   0.52              12  \n",
       "2                   0.71              17  \n",
       "3                   0.47              14  \n",
       "4                   0.46              12  "
      ]
     },
     "execution_count": 11,
     "metadata": {},
     "output_type": "execute_result"
    }
   ],
   "source": [
    "df2.head()"
   ]
  },
  {
   "cell_type": "code",
   "execution_count": 12,
   "metadata": {},
   "outputs": [],
   "source": [
    "df1.index = df1['Date']\n",
    "del df1['Date']\n"
   ]
  },
  {
   "cell_type": "code",
   "execution_count": 13,
   "metadata": {},
   "outputs": [
    {
     "data": {
      "text/html": [
       "<div>\n",
       "<style scoped>\n",
       "    .dataframe tbody tr th:only-of-type {\n",
       "        vertical-align: middle;\n",
       "    }\n",
       "\n",
       "    .dataframe tbody tr th {\n",
       "        vertical-align: top;\n",
       "    }\n",
       "\n",
       "    .dataframe thead th {\n",
       "        text-align: right;\n",
       "    }\n",
       "</style>\n",
       "<table border=\"1\" class=\"dataframe\">\n",
       "  <thead>\n",
       "    <tr style=\"text-align: right;\">\n",
       "      <th></th>\n",
       "      <th>Taxify: People saw 0 cars (unique)</th>\n",
       "      <th>Taxify: People saw +1 cars (unique)</th>\n",
       "      <th>Taxify: Coverage Ratio (unique)</th>\n",
       "    </tr>\n",
       "    <tr>\n",
       "      <th>Date</th>\n",
       "      <th></th>\n",
       "      <th></th>\n",
       "      <th></th>\n",
       "    </tr>\n",
       "  </thead>\n",
       "  <tbody>\n",
       "    <tr>\n",
       "      <th>2016-11-13 23:00:00</th>\n",
       "      <td>2</td>\n",
       "      <td>34</td>\n",
       "      <td>94</td>\n",
       "    </tr>\n",
       "    <tr>\n",
       "      <th>2016-11-13 22:00:00</th>\n",
       "      <td>7</td>\n",
       "      <td>47</td>\n",
       "      <td>87</td>\n",
       "    </tr>\n",
       "    <tr>\n",
       "      <th>2016-11-13 21:00:00</th>\n",
       "      <td>14</td>\n",
       "      <td>44</td>\n",
       "      <td>76</td>\n",
       "    </tr>\n",
       "    <tr>\n",
       "      <th>2016-11-13 20:00:00</th>\n",
       "      <td>5</td>\n",
       "      <td>40</td>\n",
       "      <td>89</td>\n",
       "    </tr>\n",
       "    <tr>\n",
       "      <th>2016-11-13 19:00:00</th>\n",
       "      <td>7</td>\n",
       "      <td>37</td>\n",
       "      <td>84</td>\n",
       "    </tr>\n",
       "  </tbody>\n",
       "</table>\n",
       "</div>"
      ],
      "text/plain": [
       "                     Taxify: People saw 0 cars (unique)  \\\n",
       "Date                                                      \n",
       "2016-11-13 23:00:00                                   2   \n",
       "2016-11-13 22:00:00                                   7   \n",
       "2016-11-13 21:00:00                                  14   \n",
       "2016-11-13 20:00:00                                   5   \n",
       "2016-11-13 19:00:00                                   7   \n",
       "\n",
       "                     Taxify: People saw +1 cars (unique)  \\\n",
       "Date                                                       \n",
       "2016-11-13 23:00:00                                   34   \n",
       "2016-11-13 22:00:00                                   47   \n",
       "2016-11-13 21:00:00                                   44   \n",
       "2016-11-13 20:00:00                                   40   \n",
       "2016-11-13 19:00:00                                   37   \n",
       "\n",
       "                     Taxify: Coverage Ratio (unique)  \n",
       "Date                                                  \n",
       "2016-11-13 23:00:00                               94  \n",
       "2016-11-13 22:00:00                               87  \n",
       "2016-11-13 21:00:00                               76  \n",
       "2016-11-13 20:00:00                               89  \n",
       "2016-11-13 19:00:00                               84  "
      ]
     },
     "execution_count": 13,
     "metadata": {},
     "output_type": "execute_result"
    }
   ],
   "source": [
    "df1.head()"
   ]
  },
  {
   "cell_type": "code",
   "execution_count": 14,
   "metadata": {},
   "outputs": [
    {
     "data": {
      "text/html": [
       "<div>\n",
       "<style scoped>\n",
       "    .dataframe tbody tr th:only-of-type {\n",
       "        vertical-align: middle;\n",
       "    }\n",
       "\n",
       "    .dataframe tbody tr th {\n",
       "        vertical-align: top;\n",
       "    }\n",
       "\n",
       "    .dataframe thead th {\n",
       "        text-align: right;\n",
       "    }\n",
       "</style>\n",
       "<table border=\"1\" class=\"dataframe\">\n",
       "  <thead>\n",
       "    <tr style=\"text-align: right;\">\n",
       "      <th></th>\n",
       "      <th>Active drivers</th>\n",
       "      <th>Online (h)</th>\n",
       "      <th>Has booking (h)</th>\n",
       "      <th>Waiting for booking (h)</th>\n",
       "      <th>Busy (h)</th>\n",
       "      <th>Hours per active driver</th>\n",
       "      <th>Rides per online hour</th>\n",
       "      <th>Finished Rides</th>\n",
       "    </tr>\n",
       "    <tr>\n",
       "      <th>Date</th>\n",
       "      <th></th>\n",
       "      <th></th>\n",
       "      <th></th>\n",
       "      <th></th>\n",
       "      <th></th>\n",
       "      <th></th>\n",
       "      <th></th>\n",
       "      <th></th>\n",
       "    </tr>\n",
       "  </thead>\n",
       "  <tbody>\n",
       "    <tr>\n",
       "      <th>2016-11-13 23:00:00</th>\n",
       "      <td>45</td>\n",
       "      <td>22</td>\n",
       "      <td>3</td>\n",
       "      <td>19</td>\n",
       "      <td>13</td>\n",
       "      <td>0.5</td>\n",
       "      <td>0.45</td>\n",
       "      <td>10</td>\n",
       "    </tr>\n",
       "    <tr>\n",
       "      <th>2016-11-13 22:00:00</th>\n",
       "      <td>58</td>\n",
       "      <td>23</td>\n",
       "      <td>5</td>\n",
       "      <td>18</td>\n",
       "      <td>18</td>\n",
       "      <td>0.4</td>\n",
       "      <td>0.52</td>\n",
       "      <td>12</td>\n",
       "    </tr>\n",
       "    <tr>\n",
       "      <th>2016-11-13 21:00:00</th>\n",
       "      <td>72</td>\n",
       "      <td>24</td>\n",
       "      <td>6</td>\n",
       "      <td>19</td>\n",
       "      <td>20</td>\n",
       "      <td>0.3</td>\n",
       "      <td>0.71</td>\n",
       "      <td>17</td>\n",
       "    </tr>\n",
       "    <tr>\n",
       "      <th>2016-11-13 20:00:00</th>\n",
       "      <td>74</td>\n",
       "      <td>30</td>\n",
       "      <td>5</td>\n",
       "      <td>25</td>\n",
       "      <td>17</td>\n",
       "      <td>0.4</td>\n",
       "      <td>0.47</td>\n",
       "      <td>14</td>\n",
       "    </tr>\n",
       "    <tr>\n",
       "      <th>2016-11-13 19:00:00</th>\n",
       "      <td>58</td>\n",
       "      <td>26</td>\n",
       "      <td>4</td>\n",
       "      <td>22</td>\n",
       "      <td>17</td>\n",
       "      <td>0.4</td>\n",
       "      <td>0.46</td>\n",
       "      <td>12</td>\n",
       "    </tr>\n",
       "  </tbody>\n",
       "</table>\n",
       "</div>"
      ],
      "text/plain": [
       "                     Active drivers  Online (h)  Has booking (h)  \\\n",
       "Date                                                               \n",
       "2016-11-13 23:00:00              45          22                3   \n",
       "2016-11-13 22:00:00              58          23                5   \n",
       "2016-11-13 21:00:00              72          24                6   \n",
       "2016-11-13 20:00:00              74          30                5   \n",
       "2016-11-13 19:00:00              58          26                4   \n",
       "\n",
       "                     Waiting for booking (h)  Busy (h)  \\\n",
       "Date                                                     \n",
       "2016-11-13 23:00:00                       19        13   \n",
       "2016-11-13 22:00:00                       18        18   \n",
       "2016-11-13 21:00:00                       19        20   \n",
       "2016-11-13 20:00:00                       25        17   \n",
       "2016-11-13 19:00:00                       22        17   \n",
       "\n",
       "                     Hours per active driver  Rides per online hour  \\\n",
       "Date                                                                  \n",
       "2016-11-13 23:00:00                      0.5                   0.45   \n",
       "2016-11-13 22:00:00                      0.4                   0.52   \n",
       "2016-11-13 21:00:00                      0.3                   0.71   \n",
       "2016-11-13 20:00:00                      0.4                   0.47   \n",
       "2016-11-13 19:00:00                      0.4                   0.46   \n",
       "\n",
       "                     Finished Rides  \n",
       "Date                                 \n",
       "2016-11-13 23:00:00              10  \n",
       "2016-11-13 22:00:00              12  \n",
       "2016-11-13 21:00:00              17  \n",
       "2016-11-13 20:00:00              14  \n",
       "2016-11-13 19:00:00              12  "
      ]
     },
     "execution_count": 14,
     "metadata": {},
     "output_type": "execute_result"
    }
   ],
   "source": [
    "df2.index =df2['Date']\n",
    "del df2['Date']\n",
    "df2.head()"
   ]
  },
  {
   "cell_type": "code",
   "execution_count": 15,
   "metadata": {},
   "outputs": [
    {
     "data": {
      "image/png": "[encoded data removed]",
      "text/plain": [
       "<matplotlib.figure.Figure at 0x1162d3080>"
      ]
     },
     "metadata": {},
     "output_type": "display_data"
    }
   ],
   "source": [
    "plt.xticks(df2['Online (h)'], df2.index)\n",
    "plt.plot( df2['Online (h)'])\n",
    "plt.show()"
   ]
  },
  {
   "cell_type": "code",
   "execution_count": 21,
   "metadata": {},
   "outputs": [
    {
     "data": {
      "image/png": "[encoded data removed]",
      "text/plain": [
       "<matplotlib.figure.Figure at 0x1166a09b0>"
      ]
     },
     "metadata": {},
     "output_type": "display_data"
    }
   ],
   "source": [
    "#plot number of hours driver was waiting for booking ---> probably hours of over supply \n",
    "plt.xticks(df2['Waiting for booking (h)'], df2.index)\n",
    "plt.plot( df2['Waiting for booking (h)'])\n",
    "plt.show()"
   ]
  },
  {
   "cell_type": "code",
   "execution_count": null,
   "metadata": {},
   "outputs": [],
   "source": [
    "#plot number of hours driver was waiting for booking ---> probably hours of over supply \n",
    "\n",
    "plt.xticks(df1['Waiting for booking (h)'], df1.index)\n",
    "plt.plot( df2['Waiting for booking (h)'])\n",
    "plt.show()"
   ]
  },
  {
   "cell_type": "code",
   "execution_count": 17,
   "metadata": {},
   "outputs": [
    {
     "data": {
      "text/plain": [
       "Date\n",
       "2016-11-13 23:00:00     94\n",
       "2016-11-13 22:00:00     87\n",
       "2016-11-13 21:00:00     76\n",
       "2016-11-13 20:00:00     89\n",
       "2016-11-13 19:00:00     84\n",
       "2016-11-13 18:00:00     85\n",
       "2016-11-13 17:00:00     68\n",
       "2016-11-13 16:00:00     81\n",
       "2016-11-13 15:00:00     82\n",
       "2016-11-13 14:00:00     69\n",
       "2016-11-13 13:00:00     70\n",
       "2016-11-13 12:00:00     71\n",
       "2016-11-13 11:00:00     85\n",
       "2016-11-13 10:00:00     54\n",
       "2016-11-13 09:00:00     59\n",
       "2016-11-13 08:00:00     79\n",
       "2016-11-13 07:00:00     71\n",
       "2016-11-13 06:00:00     80\n",
       "2016-11-13 05:00:00     85\n",
       "2016-11-13 04:00:00     45\n",
       "2016-11-13 03:00:00     67\n",
       "2016-11-13 02:00:00     79\n",
       "2016-11-13 01:00:00     84\n",
       "2016-11-13 00:00:00     79\n",
       "2016-11-12 23:00:00     74\n",
       "2016-11-12 22:00:00     81\n",
       "2016-11-12 21:00:00     91\n",
       "2016-11-12 20:00:00     79\n",
       "2016-11-12 19:00:00     77\n",
       "2016-11-12 18:00:00     80\n",
       "                      ... \n",
       "2016-11-08 05:00:00    100\n",
       "2016-11-08 04:00:00     57\n",
       "2016-11-08 03:00:00     44\n",
       "2016-11-08 02:00:00     56\n",
       "2016-11-08 01:00:00     83\n",
       "2016-11-08 00:00:00     94\n",
       "2016-11-07 23:00:00     75\n",
       "2016-11-07 22:00:00     87\n",
       "2016-11-07 21:00:00     85\n",
       "2016-11-07 20:00:00     87\n",
       "2016-11-07 19:00:00     84\n",
       "2016-11-07 18:00:00     96\n",
       "2016-11-07 17:00:00     97\n",
       "2016-11-07 16:00:00    100\n",
       "2016-11-07 15:00:00     91\n",
       "2016-11-07 14:00:00     88\n",
       "2016-11-07 13:00:00     82\n",
       "2016-11-07 12:00:00     82\n",
       "2016-11-07 11:00:00     77\n",
       "2016-11-07 10:00:00     56\n",
       "2016-11-07 09:00:00     58\n",
       "2016-11-07 08:00:00     53\n",
       "2016-11-07 07:00:00     56\n",
       "2016-11-07 06:00:00     36\n",
       "2016-11-07 05:00:00     50\n",
       "2016-11-07 04:00:00     50\n",
       "2016-11-07 03:00:00      0\n",
       "2016-11-07 02:00:00     50\n",
       "2016-11-07 01:00:00     76\n",
       "2016-11-07 00:00:00     81\n",
       "Name: Taxify: Coverage Ratio (unique), Length: 168, dtype: int64"
      ]
     },
     "execution_count": 17,
     "metadata": {},
     "output_type": "execute_result"
    }
   ],
   "source": [
    "#total number of unique searches with 100% coverage \n",
    "df1['Taxify: Coverage Ratio (unique)']"
   ]
  },
  {
   "cell_type": "code",
   "execution_count": 18,
   "metadata": {},
   "outputs": [],
   "source": [
    "#coverage search greater than 100\n",
    "coverage = df1['Taxify: Coverage Ratio (unique)'] > 99"
   ]
  },
  {
   "cell_type": "code",
   "execution_count": 19,
   "metadata": {},
   "outputs": [
    {
     "data": {
      "text/plain": [
       "3"
      ]
     },
     "execution_count": 19,
     "metadata": {},
     "output_type": "execute_result"
    }
   ],
   "source": [
    "coverage.sum()"
   ]
  },
  {
   "cell_type": "code",
   "execution_count": 20,
   "metadata": {},
   "outputs": [
    {
     "data": {
      "image/png": "[encoded data removed]",
      "text/plain": [
       "<matplotlib.figure.Figure at 0x1166ce208>"
      ]
     },
     "metadata": {},
     "output_type": "display_data"
    }
   ],
   "source": [
    "df1 = df1.pivot(df1.index,\"Taxify: Coverage Ratio (unique)\")\n",
    "ax = sns.heatmap(df1, annot=True)\n"
   ]
  },
  {
   "cell_type": "code",
   "execution_count": null,
   "metadata": {},
   "outputs": [],
   "source": [
    "#"
   ]
  }
 ],
 "metadata": {
  "kernelspec": {
   "display_name": "Python 3",
   "language": "python",
   "name": "python3"
  },
  "language_info": {
   "codemirror_mode": {
    "name": "ipython",
    "version": 3
   },
   "file_extension": ".py",
   "mimetype": "text/x-python",
   "name": "python",
   "nbconvert_exporter": "python",
   "pygments_lexer": "ipython3",
   "version": "3.6.4"
  }
 },
 "nbformat": 4,
 "nbformat_minor": 2
}
